{
 "cells": [
  {
   "cell_type": "code",
   "execution_count": 1,
   "id": "0d5354f9",
   "metadata": {},
   "outputs": [],
   "source": [
    "import numpy as np\n",
    "import torch\n",
    "import torch.nn as nn\n",
    "import torch.nn.functional as F\n",
    "import torchvision\n",
    "from torchvision import datasets, transforms\n",
    "from torch.utils.data import random_split, TensorDataset, DataLoader\n",
    "import matplotlib.pyplot as plt\n",
    "from pathlib import Path\n",
    "import sys\n",
    "\n",
    "\n",
    "# climb up to the repo root and add <repo>/src to Python's path\n",
    "repo_root = Path().resolve().parents[0]   # parent of \"notebooks\"\n",
    "sys.path.insert(0, str(repo_root / \"src\"))\n",
    "\n",
    "from fisher_information.fim import FisherInformationMatrix\n",
    "from models.conv_models import ConvModelMNIST\n",
    "from models.train_test import *\n",
    "from prunning_methods.LTH import *\n",
    "\n",
    "device = \"cuda\" if torch.cuda.is_available() else \"cpu\""
   ]
  },
  {
   "cell_type": "code",
   "execution_count": 2,
   "id": "25c93161",
   "metadata": {},
   "outputs": [],
   "source": [
    "mnist_train = torchvision.datasets.MNIST(root='../data', train=True, download=True, transform=torchvision.transforms.ToTensor())\n",
    "mnist_test = torchvision.datasets.MNIST(root='../data', train=False, download=True, transform=torchvision.transforms.ToTensor())\n",
    "\n",
    "mnist_train_loader = DataLoader(mnist_train, batch_size = 256, shuffle=True)\n",
    "mnist_train_fim_loader = DataLoader(mnist_train, batch_size = 1, shuffle=True) \n",
    "mnist_test_loader = DataLoader(mnist_test, batch_size = 20, shuffle=True)"
   ]
  },
  {
   "cell_type": "code",
   "execution_count": 3,
   "id": "929d5e51",
   "metadata": {},
   "outputs": [],
   "source": [
    "fim_args = {\"complete_fim\": True, \n",
    "            \"layers\":  None, \n",
    "            \"mask\":  None, \n",
    "            \"sampling_type\":  'complete', \n",
    "            \"sampling_frequency\":  None\n",
    "            }\n",
    "\n",
    "\n",
    "LTH_args = {\"model\": ConvModelMNIST().to(device), \n",
    "            \"criterion\": nn.CrossEntropyLoss(), \n",
    "            \"train_loader\": mnist_train_loader, \n",
    "            \"test_loader\": mnist_test_loader, \n",
    "            \"fim_loader\": mnist_train_fim_loader, \n",
    "            \"fim_args\": fim_args, \n",
    "            \"lr\" : 1e-3,\n",
    "            \"n_iterations\":5, \n",
    "            \"n_epochs\":20, \n",
    "            \"prunning_percentage\":0.2, \n",
    "            \"no_prunning_layers\":None, \n",
    "            \"verbose\":True, \n",
    "            \"use_scheduler\":False, \n",
    "            \"save_path\":None\n",
    "            }\n",
    "           "
   ]
  },
  {
   "cell_type": "code",
   "execution_count": 4,
   "id": "5a4e182b",
   "metadata": {},
   "outputs": [
    {
     "name": "stdout",
     "output_type": "stream",
     "text": [
      "LTH Iteration 1/5\n",
      "Epoch 1/20- Loss: 0.15086819231510162\n",
      "Epoch 6/20- Loss: 0.11802282929420471\n",
      "Epoch 11/20- Loss: 0.010604895651340485\n",
      "Epoch 16/20- Loss: 0.056623365730047226\n",
      "Test Accuracy after iteration 1: 98.54%\n",
      "LTH Iteration 2/5\n",
      "Epoch 1/20- Loss: 0.022708183154463768\n",
      "Epoch 6/20- Loss: 0.012383085675537586\n",
      "Epoch 11/20- Loss: 0.04530005156993866\n",
      "Epoch 16/20- Loss: 0.08691715449094772\n",
      "Test Accuracy after iteration 2: 98.57%\n",
      "LTH Iteration 3/5\n",
      "Epoch 1/20- Loss: 0.10835510492324829\n",
      "Epoch 6/20- Loss: 0.0092294467613101\n",
      "Epoch 11/20- Loss: 0.010110839270055294\n",
      "Epoch 16/20- Loss: 0.04964149370789528\n",
      "Test Accuracy after iteration 3: 98.48%\n",
      "LTH Iteration 4/5\n",
      "Epoch 1/20- Loss: 0.018672995269298553\n",
      "Epoch 6/20- Loss: 0.04324236884713173\n",
      "Epoch 11/20- Loss: 0.009957920759916306\n",
      "Epoch 16/20- Loss: 0.008405914530158043\n",
      "Test Accuracy after iteration 4: 98.60%\n",
      "LTH Iteration 5/5\n",
      "Epoch 1/20- Loss: 0.5055193901062012\n",
      "Epoch 6/20- Loss: 0.12010172754526138\n",
      "Epoch 11/20- Loss: 0.11327501386404037\n",
      "Epoch 16/20- Loss: 0.050041452050209045\n",
      "Test Accuracy after iteration 5: 96.77%\n"
     ]
    }
   ],
   "source": [
    "output_dict = train_LTH(**LTH_args)"
   ]
  },
  {
   "cell_type": "code",
   "execution_count": 24,
   "id": "434da0ec",
   "metadata": {},
   "outputs": [
    {
     "name": "stdout",
     "output_type": "stream",
     "text": [
      "-27142.953125\n",
      "-27871.375\n",
      "-27952.01171875\n",
      "-28130.0390625\n",
      "-28442.068359375\n"
     ]
    }
   ],
   "source": [
    "for i in range(len(output_dict[\"fim_list\"])):\n",
    "    print(output_dict[\"fim_list\"][i].diaglogdet)"
   ]
  },
  {
   "cell_type": "code",
   "execution_count": 28,
   "id": "3ead0d7f",
   "metadata": {},
   "outputs": [
    {
     "name": "stdout",
     "output_type": "stream",
     "text": [
      "torch.Size([5090, 5090])\n",
      "torch.Size([5090, 5090])\n",
      "torch.Size([5090, 5090])\n",
      "torch.Size([5090, 5090])\n",
      "torch.Size([5090, 5090])\n"
     ]
    }
   ],
   "source": [
    "for i in range(len(output_dict[\"fim_list\"])):\n",
    "    print(output_dict[\"fim_list\"][i].fim['complete'].shape)"
   ]
  },
  {
   "cell_type": "code",
   "execution_count": 23,
   "id": "48aa9ed9",
   "metadata": {},
   "outputs": [
    {
     "name": "stdout",
     "output_type": "stream",
     "text": [
      "0 tensor(-59322.9375, device='cuda:0')\n",
      "1 tensor(-64216.2578, device='cuda:0')\n",
      "2 tensor(-66093.5547, device='cuda:0')\n",
      "3 tensor(-63455.9492, device='cuda:0')\n",
      "4 tensor(-51002.0703, device='cuda:0')\n"
     ]
    }
   ],
   "source": [
    "for i in range(len(output_dict[\"fim_list\"])):\n",
    "    print(i, torch.slogdet(output_dict[\"fim_list\"][i].fim['complete'])[-1])"
   ]
  }
 ],
 "metadata": {
  "kernelspec": {
   "display_name": "ml",
   "language": "python",
   "name": "python3"
  },
  "language_info": {
   "codemirror_mode": {
    "name": "ipython",
    "version": 3
   },
   "file_extension": ".py",
   "mimetype": "text/x-python",
   "name": "python",
   "nbconvert_exporter": "python",
   "pygments_lexer": "ipython3",
   "version": "3.11.13"
  }
 },
 "nbformat": 4,
 "nbformat_minor": 5
}
